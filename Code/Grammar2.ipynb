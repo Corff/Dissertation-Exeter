{
 "cells": [
  {
   "cell_type": "code",
   "execution_count": 1,
   "metadata": {},
   "outputs": [],
   "source": [
    "import numpy as np\n",
    "import pandas as pd\n",
    "import random\n",
    "import pickle\n",
    "import sys\n"
   ]
  },
  {
   "cell_type": "markdown",
   "metadata": {},
   "source": [
    "# Importing Data and Labels"
   ]
  },
  {
   "cell_type": "code",
   "execution_count": 2,
   "metadata": {},
   "outputs": [],
   "source": [
    "chromosomeFile = \"Data//matchesList.txt\"\n",
    "labelsFile = \"Data//labelList.txt\"\n",
    "\n",
    "with open(chromosomeFile, 'rb') as f:\n",
    "    matchList = pickle.load(f)\n",
    "\n",
    "with open(labelsFile, 'rb') as f:\n",
    "    labels = pickle.load(f)\n",
    "\n",
    "for x in matchList:\n",
    "    del x[8]\n",
    "    del x[0]"
   ]
  },
  {
   "cell_type": "markdown",
   "metadata": {},
   "source": [
    "# Importing Data and Labels"
   ]
  },
  {
   "cell_type": "code",
   "execution_count": 3,
   "metadata": {},
   "outputs": [],
   "source": [
    "def generatePopulation(size):\n",
    "    population = []\n",
    "    for i in range(size):\n",
    "        temp = []\n",
    "        for j in range(0,14):\n",
    "            temp.append(random.randint(0,256))\n",
    "        population.append(temp)\n",
    "    return population"
   ]
  },
  {
   "cell_type": "code",
   "execution_count": 4,
   "metadata": {},
   "outputs": [],
   "source": [
    "def getExpr():\n",
    "    expr = [\"<expr> + <expr>\", \"<expr> - <expr>\", \"<expr> * <expr>\", \"<expr> / <expr>\"]\n",
    "    for i in range(0,7):\n",
    "            expr.append(\"t1Stats[\" + str(i) + \"]\")\n",
    "    return expr"
   ]
  },
  {
   "cell_type": "code",
   "execution_count": 5,
   "metadata": {},
   "outputs": [],
   "source": [
    "def formGrammar(chromosome):\n",
    "    ex = \"<expr>\"\n",
    "    grammar = [ex]\n",
    "    expr = getExpr()\n",
    "    for c in range(0,len(chromosome)):\n",
    "        for i in range(0,len(grammar)):\n",
    "            if(grammar[i]==ex):\n",
    "                addToGrammar = expr[chromosome[c]%len(expr)].split(\" \")\n",
    "                for x in addToGrammar:\n",
    "                    grammar.insert(i+1,x)\n",
    "                del grammar[i]\n",
    "                break\n",
    "    #t1 = grammar.copy()\n",
    "    #t2 = grammar.copy()\n",
    "    #for i in t2:\n",
    "        #t2[t2.index(i)] = i.replace(\"t1\",\"t2\")\n",
    "    return grammar"
   ]
  },
  {
   "cell_type": "code",
   "execution_count": 6,
   "metadata": {},
   "outputs": [],
   "source": [
    "def formString(grammar):\n",
    "    string = \"\"\n",
    "    for i in grammar:\n",
    "        string += i + \" \"\n",
    "    return string"
   ]
  },
  {
   "cell_type": "code",
   "execution_count": 7,
   "metadata": {},
   "outputs": [],
   "source": [
    "def evalString(grammarString, eMatchList, eLabels):\n",
    "    tempMatchList = eMatchList.copy()\n",
    "    fitness = 0\n",
    "    t1GrammarString = grammarString\n",
    "    t2GrammarString = grammarString.replace(\"t1\",\"t2\")\n",
    "    labels = []\n",
    "    for i in range(len(eMatchList)):\n",
    "        try:\n",
    "            t1Stats = eMatchList.copy()[i][:7]\n",
    "            t2Stats = eMatchList.copy()[i][7:]\n",
    "            t1v = eval(t1GrammarString)\n",
    "            t2v = eval(t2GrammarString)\n",
    "            finalVal = t1v - t2v\n",
    "            if(finalVal>0.25):\n",
    "                labels.append(\"H\")\n",
    "            elif(finalVal<-0.25):\n",
    "                labels.append(\"A\")\n",
    "            else:\n",
    "                labels.append(\"D\")    \n",
    "            #print(finalVal)\n",
    "            #print(t1Stats,\"\\n\",t2Stats,\"\\n\",t1GrammarString,\"\\n\",t2GrammarString,\"\\n\",t1v,\"\\n\",t2v)\n",
    "        except:\n",
    "            print(\"Error\", grammarString, sys.exc_info()[0])\n",
    "            return -1\n",
    "    index = 53\n",
    "    for i in range(0,len(labels)):\n",
    "        if(labels[i]==eLabels[i]):\n",
    "            fitness+=1\n",
    "    fitness = fitness/len(labels)\n",
    "    return fitness"
   ]
  },
  {
   "cell_type": "code",
   "execution_count": 8,
   "metadata": {},
   "outputs": [
    {
     "name": "stdout",
     "output_type": "stream",
     "text": [
      "[14, 240, 188, 104, 14, 163, 138, 196, 7, 205, 192, 36, 111, 38]\n",
      "t1Stats[5] / t1Stats[1] - t1Stats[5] / t1Stats[2] \n"
     ]
    }
   ],
   "source": [
    "workingChromosome = [14, 240, 188, 104, 14, 163, 138, 196, 7, 205, 192, 36, 111, 38]\n",
    "expr = getExpr()\n",
    "workingGrammar = formGrammar(workingChromosome)\n",
    "workingGrammarString = formString(workingGrammar)\n",
    "print(workingChromosome)\n",
    "print(workingGrammarString)"
   ]
  },
  {
   "cell_type": "code",
   "execution_count": 9,
   "metadata": {},
   "outputs": [
    {
     "name": "stdout",
     "output_type": "stream",
     "text": [
      "[44, 1, 242, 192, 239, 44, 154, 219, 34, 66, 128, 75, 107, 98]\n",
      "t1Stats[1] + t1Stats[4] - t1Stats[6] + t1Stats[3] + t1Stats[5] - t1Stats[4] + t1Stats[6] + <expr> \n"
     ]
    }
   ],
   "source": [
    "brokenChromosome = [44, 1, 242, 192, 239, 44, 154, 219, 34, 66, 128, 75, 107, 98]\n",
    "expr = getExpr()\n",
    "brokenGrammar = formGrammar(brokenChromosome)\n",
    "brokenGrammarString = formString(brokenGrammar)\n",
    "print(brokenChromosome)\n",
    "print(brokenGrammarString)"
   ]
  },
  {
   "cell_type": "code",
   "execution_count": 10,
   "metadata": {},
   "outputs": [
    {
     "data": {
      "text/plain": [
       "0.21139101861993428"
      ]
     },
     "execution_count": 10,
     "metadata": {},
     "output_type": "execute_result"
    }
   ],
   "source": [
    "evalString(workingGrammarString, matchList, labels)"
   ]
  },
  {
   "cell_type": "code",
   "execution_count": 11,
   "metadata": {},
   "outputs": [
    {
     "name": "stdout",
     "output_type": "stream",
     "text": [
      "Error t1Stats[1] + t1Stats[4] - t1Stats[6] + t1Stats[3] + t1Stats[5] - t1Stats[4] + t1Stats[6] + <expr>  <class 'SyntaxError'>\n"
     ]
    },
    {
     "data": {
      "text/plain": [
       "-1"
      ]
     },
     "execution_count": 11,
     "metadata": {},
     "output_type": "execute_result"
    }
   ],
   "source": [
    "evalString(brokenGrammarString, matchList, labels)"
   ]
  },
  {
   "cell_type": "code",
   "execution_count": 12,
   "metadata": {},
   "outputs": [],
   "source": [
    "def tournamentSelection(population,size, sMatchList, sLabels):\n",
    "    tournament = []\n",
    "    for i in range(size):\n",
    "        tournament.append(population[random.randint(0,len(population)-1)])\n",
    "    \n",
    "    selectedEval = []\n",
    "    expr = getExpr()\n",
    "    for i in range(0,len(tournament)):\n",
    "        selectedEval.append(evalString(formString(formGrammar(tournament[i])), sMatchList, sLabels))\n",
    "    best = selectedEval.index(max(selectedEval))\n",
    "    return tournament[best]"
   ]
  },
  {
   "cell_type": "code",
   "execution_count": 16,
   "metadata": {},
   "outputs": [],
   "source": [
    "def crossover(parent1, parent2,k):\n",
    "    child = parent1[0:k] + parent2[k:]\n",
    "    return list(child)"
   ]
  },
  {
   "cell_type": "code",
   "execution_count": null,
   "metadata": {},
   "outputs": [],
   "source": [
    "def mutation(child, mutationCount):\n",
    "    for i in range(0,mutationCount):\n",
    "        child[random.randint(0,len(child)-1)] = random.randint(0,256)\n",
    "    return child"
   ]
  },
  {
   "cell_type": "code",
   "execution_count": 14,
   "metadata": {},
   "outputs": [],
   "source": [
    "def run(populationSize, tournamentSize, generations, rMatchList, rLabels):\n",
    "    population = generatePopulation(populationSize)\n",
    "    for i in range(generations):\n",
    "        #Get Fitness Of Each Chromosome\n",
    "        fitness = []\n",
    "        expr = getExpr()\n",
    "        for j in range(len(population)):\n",
    "            grammar = formGrammar(population[j])\n",
    "            grammarString = formString(grammar)\n",
    "            fitness.append(evalString(grammarString, rMatchList, rLabels))\n",
    "        child1, child2 = tournamentSelection(population, tournamentSize, rMatchList, rLabels), tournamentSelection(population, tournamentSize, rMatchList, rLabels)\n",
    "        child = crossover(child1, child2, random.randint(0,len(child1)-1))\n",
    "        child = mutation(child, random.randint(0,len(child)-1))\n",
    "        newFitness\n",
    "        #print(child1,child2)\n",
    "        \n",
    "        #print(fitness) \n",
    "        #"
   ]
  },
  {
   "cell_type": "code",
   "execution_count": 15,
   "metadata": {},
   "outputs": [
    {
     "name": "stdout",
     "output_type": "stream",
     "text": [
      "Error t1Stats[0] + t1Stats[0] * t1Stats[2] - t1Stats[4] + t1Stats[2] * t1Stats[1] * <expr> / <expr> - <expr>  <class 'SyntaxError'>\n",
      "Error t1Stats[0] + t1Stats[0] * t1Stats[2] - t1Stats[4] + t1Stats[2] * t1Stats[1] * <expr> / <expr> - <expr>  <class 'SyntaxError'>\n",
      "[58, 104, 138, 144, 236, 148, 162, 241, 256, 166, 132, 50, 86, 193] [58, 104, 138, 144, 236, 148, 162, 241, 256, 166, 132, 50, 86, 193]\n"
     ]
    }
   ],
   "source": [
    "p = 10\n",
    "t = 3\n",
    "g = 1\n",
    "run(p,t,g,matchList,labels)"
   ]
  }
 ],
 "metadata": {
  "kernelspec": {
   "display_name": "Python 3.6.13 ('Dissertation')",
   "language": "python",
   "name": "python3"
  },
  "language_info": {
   "codemirror_mode": {
    "name": "ipython",
    "version": 3
   },
   "file_extension": ".py",
   "mimetype": "text/x-python",
   "name": "python",
   "nbconvert_exporter": "python",
   "pygments_lexer": "ipython3",
   "version": "3.6.13"
  },
  "orig_nbformat": 4,
  "vscode": {
   "interpreter": {
    "hash": "0e7d8a89c4beef0a3d080b5b136fd623de36ddd432f5a6abb72d0da0b1556b26"
   }
  }
 },
 "nbformat": 4,
 "nbformat_minor": 2
}
