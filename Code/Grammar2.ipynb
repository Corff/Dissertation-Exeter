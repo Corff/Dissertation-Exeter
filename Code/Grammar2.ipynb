{
 "cells": [
  {
   "cell_type": "code",
   "execution_count": null,
   "metadata": {},
   "outputs": [],
   "source": [
    "import numpy as np\n",
    "import pandas as pd\n",
    "import random\n",
    "import pickle\n",
    "import sys\n",
    "from timeit import default_timer as timer\n",
    "import datetime\n"
   ]
  },
  {
   "cell_type": "markdown",
   "metadata": {},
   "source": [
    "# Importing Data and Labels"
   ]
  },
  {
   "cell_type": "code",
   "execution_count": null,
   "metadata": {},
   "outputs": [],
   "source": [
    "chromosomeFile = \"Data//matchesList.txt\"\n",
    "labelsFile = \"Data//labelList.txt\"\n",
    "\n",
    "with open(chromosomeFile, 'rb') as f:\n",
    "    matchList = pickle.load(f)\n",
    "\n",
    "with open(labelsFile, 'rb') as f:\n",
    "    labels = pickle.load(f)\n",
    "\n",
    "for x in matchList:\n",
    "    del x[8]\n",
    "    del x[0]"
   ]
  },
  {
   "cell_type": "markdown",
   "metadata": {},
   "source": [
    "# Importing Data and Labels"
   ]
  },
  {
   "cell_type": "code",
   "execution_count": null,
   "metadata": {},
   "outputs": [],
   "source": [
    "def generatePopulation(size):\n",
    "    population = []\n",
    "    for i in range(size):\n",
    "        temp = []\n",
    "        for j in range(0,14):\n",
    "            temp.append(random.randint(0,256))\n",
    "        population.append(temp)\n",
    "    return population"
   ]
  },
  {
   "cell_type": "code",
   "execution_count": null,
   "metadata": {},
   "outputs": [],
   "source": [
    "def getExpr():\n",
    "    expr = [\"<expr> + <expr>\", \"<expr> - <expr>\", \"<expr> * <expr>\", \"<expr> / <expr>\"]\n",
    "    for i in range(0,7):\n",
    "            expr.append(\"t1Stats[\" + str(i) + \"]\")\n",
    "    return expr"
   ]
  },
  {
   "cell_type": "code",
   "execution_count": null,
   "metadata": {},
   "outputs": [],
   "source": [
    "def formGrammar(chromosome):\n",
    "    ex = \"<expr>\"\n",
    "    grammar = [ex]\n",
    "    expr = getExpr()\n",
    "    for c in range(0,len(chromosome)):\n",
    "        for i in range(0,len(grammar)):\n",
    "            if(grammar[i]==ex):\n",
    "                addToGrammar = expr[chromosome[c]%len(expr)].split(\" \")\n",
    "                for x in addToGrammar:\n",
    "                    grammar.insert(i+1,x)\n",
    "                del grammar[i]\n",
    "                break\n",
    "    #t1 = grammar.copy()\n",
    "    #t2 = grammar.copy()\n",
    "    #for i in t2:\n",
    "        #t2[t2.index(i)] = i.replace(\"t1\",\"t2\")\n",
    "    return grammar"
   ]
  },
  {
   "cell_type": "code",
   "execution_count": null,
   "metadata": {},
   "outputs": [],
   "source": [
    "def formString(grammar):\n",
    "    string = \"\"\n",
    "    for i in grammar:\n",
    "        string += i + \" \"\n",
    "    return string"
   ]
  },
  {
   "cell_type": "code",
   "execution_count": null,
   "metadata": {},
   "outputs": [],
   "source": [
    "def evalString(grammarString, eMatchList, eLabels):\n",
    "    tempMatchList = eMatchList.copy()\n",
    "    fitness = 0\n",
    "    t1GrammarString = grammarString\n",
    "    t2GrammarString = grammarString.replace(\"t1\",\"t2\")\n",
    "    labels = []\n",
    "    for i in range(len(eMatchList)):\n",
    "        try:\n",
    "            t1Stats = eMatchList.copy()[i][:7]\n",
    "            t2Stats = eMatchList.copy()[i][7:]\n",
    "            t1v = eval(t1GrammarString)\n",
    "            t2v = eval(t2GrammarString)\n",
    "            finalVal = t1v - t2v\n",
    "            if(finalVal>0.25):\n",
    "                labels.append(\"H\")\n",
    "            elif(finalVal<-0.25):\n",
    "                labels.append(\"A\")\n",
    "            else:\n",
    "                labels.append(\"D\")    \n",
    "            #print(finalVal)\n",
    "            #print(t1Stats,\"\\n\",t2Stats,\"\\n\",t1GrammarString,\"\\n\",t2GrammarString,\"\\n\",t1v,\"\\n\",t2v)\n",
    "        except:\n",
    "            #print(\"Error\", grammarString, sys.exc_info()[0])\n",
    "            return -1\n",
    "    index = 53\n",
    "    for i in range(0,len(labels)):\n",
    "        if(labels[i]==eLabels[i]):\n",
    "            fitness+=1\n",
    "    fitness = fitness/len(labels)\n",
    "    return fitness"
   ]
  },
  {
   "cell_type": "code",
   "execution_count": null,
   "metadata": {},
   "outputs": [],
   "source": [
    "workingChromosome = [14, 240, 188, 104, 14, 163, 138, 196, 7, 205, 192, 36, 111, 38]\n",
    "expr = getExpr()\n",
    "workingGrammar = formGrammar(workingChromosome)\n",
    "workingGrammarString = formString(workingGrammar)\n",
    "print(workingChromosome)\n",
    "print(workingGrammarString)"
   ]
  },
  {
   "cell_type": "code",
   "execution_count": null,
   "metadata": {},
   "outputs": [],
   "source": [
    "brokenChromosome = [44, 1, 242, 192, 239, 44, 154, 219, 34, 66, 128, 75, 107, 98]\n",
    "expr = getExpr()\n",
    "brokenGrammar = formGrammar(brokenChromosome)\n",
    "brokenGrammarString = formString(brokenGrammar)\n",
    "print(brokenChromosome)\n",
    "print(brokenGrammarString)"
   ]
  },
  {
   "cell_type": "code",
   "execution_count": null,
   "metadata": {},
   "outputs": [],
   "source": [
    "evalString(workingGrammarString, matchList, labels)"
   ]
  },
  {
   "cell_type": "code",
   "execution_count": null,
   "metadata": {},
   "outputs": [],
   "source": [
    "evalString(brokenGrammarString, matchList, labels)"
   ]
  },
  {
   "cell_type": "code",
   "execution_count": null,
   "metadata": {},
   "outputs": [],
   "source": [
    "def tournamentSelection(population,size, sMatchList, sLabels):\n",
    "    tournament = []\n",
    "    for i in range(size):\n",
    "        tournament.append(population[random.randint(0,len(population)-1)])\n",
    "    \n",
    "    selectedEval = []\n",
    "    expr = getExpr()\n",
    "    for i in range(0,len(tournament)):\n",
    "        selectedEval.append(evalString(formString(formGrammar(tournament[i])), sMatchList, sLabels))\n",
    "    best = selectedEval.index(max(selectedEval))\n",
    "    return tournament[best]"
   ]
  },
  {
   "cell_type": "code",
   "execution_count": null,
   "metadata": {},
   "outputs": [],
   "source": [
    "def crossover(parent1, parent2,k):\n",
    "    child = parent1[0:k] + parent2[k:]\n",
    "    return list(child)"
   ]
  },
  {
   "cell_type": "code",
   "execution_count": null,
   "metadata": {},
   "outputs": [],
   "source": [
    "def mutation(child, mutationCount):\n",
    "    for i in range(0,mutationCount):\n",
    "        child[random.randint(0,len(child)-1)] = random.randint(0,256)\n",
    "    return child"
   ]
  },
  {
   "cell_type": "code",
   "execution_count": null,
   "metadata": {},
   "outputs": [],
   "source": [
    "def evolve(populationSize, tournamentSize, mutationCount, generations, eMatchList, eLabels):\n",
    "    population = generatePopulation(populationSize)\n",
    "    stages = [0]*generations\n",
    "    for i in range(generations):\n",
    "        #Get Fitness Of Each Chromosome\n",
    "        fitness = []\n",
    "        expr = getExpr()\n",
    "        for j in range(len(population)):\n",
    "            grammar = formGrammar(population[j])\n",
    "            grammarString = formString(grammar)\n",
    "            fitness.append(evalString(grammarString, eMatchList, eLabels))\n",
    "        child1, child2 = tournamentSelection(population, tournamentSize, eMatchList, eLabels), tournamentSelection(population, tournamentSize, eMatchList, eLabels)\n",
    "        child = crossover(child1, child2, random.randint(0,len(child1)-1))\n",
    "        child = mutation(child, mutationCount)\n",
    "        newFitnessGrammar = formGrammar(child)\n",
    "        newFitnessGrammarString = formString(newFitnessGrammar)\n",
    "        newFitness = evalString(newFitnessGrammarString, eMatchList, eLabels)\n",
    "        if(newFitness > min(fitness)):\n",
    "            population[fitness.index(min(fitness))] = child\n",
    "        stages[i] = [i,max(fitness),sum(fitness)/len(fitness),fitness.index(max(fitness))]\n",
    "    text = \"Population Size: \" + str(populationSize) + \" Tournament Size: \" + str(tournamentSize) + \" Generations: \" + str(generations) + \" Mutation Count: \" + str(mutationCount) + \" Best: \" + str(max(fitness)) + \", Average: \" + str(sum(fitness)/len(fitness))\n",
    "    return [text,population[fitness.index(max(fitness))], stages]\n",
    "        #print(child1,child2)\n",
    "        \n",
    "        #print(fitness) \n",
    "        #"
   ]
  },
  {
   "cell_type": "code",
   "execution_count": null,
   "metadata": {},
   "outputs": [],
   "source": [
    "def run(p,t,m,g,rMatchList,rLabels):\n",
    "    start = timer()\n",
    "    populationSize = p\n",
    "    tournamentSize = t\n",
    "    mutationCount = m\n",
    "    generations = g\n",
    "    infoText, chromosome, stages = evolve(populationSize, tournamentSize, mutationCount, generations, rMatchList, rLabels)\n",
    "    infoText = infoText + \", Time: \" + str(timer()-start)\n",
    "    infoText = infoText + \", Date: \" + str(datetime.datetime.now())\n",
    "\n",
    "    with open(\"Results//GRE//testsGRE.txt\",\"a\") as f:\n",
    "        f.write(str(infoText) + \"\\n\")\n",
    "    with open(\"Results//GRE//chromosomeGRE.txt\",\"a\") as f:\n",
    "        f.write(str(chromosome) + \"\\n\")\n",
    "\n",
    "    date = str(datetime.datetime.now())\n",
    "    date = date.replace(\" \",\"\")[5:len(date)-8]\n",
    "    date = \"test\" + date + \".txt\"\n",
    "    date = date.replace(\":\",\"_\")\n",
    "    date = date[:9] + \"_\" + date[9:]\n",
    "    date = date[:len(date)-4] + \"-GRE\" + date[len(date)-4:]\n",
    "\n",
    "    with open(\"Results//GRE//Individual//\"+str(date),\"w\") as f:\n",
    "        f.write(\"Generation,Best,Average,Index\\n\")\n",
    "        for i in stages:\n",
    "            f.write(str(i).replace(\"[\",\"\").replace(\"]\",\"\") + \"\\n\")\n",
    "    \n",
    "    return \"done\""
   ]
  },
  {
   "cell_type": "code",
   "execution_count": null,
   "metadata": {},
   "outputs": [],
   "source": [
    "#pop = 10\n",
    "#tour = 3\n",
    "#gen = 100\n",
    "#mut = 3\n",
    "#print(run(pop,tour,mut,gen,matchList,labels))\n",
    "populationSizes = [10,50,100,500]\n",
    "tournamentSizes = [3,6]\n",
    "mutationCounts = [1,2,3]\n",
    "genarations = [10,100,250,500,1000]\n",
    "for g in genarations:\n",
    "    for m in mutationCounts:\n",
    "        for t in tournamentSizes:\n",
    "            for p in populationSizes:\n",
    "                run(p, t, m, g, matchList, labels)\n",
    "                pass"
   ]
  },
  {
   "cell_type": "code",
   "execution_count": null,
   "metadata": {},
   "outputs": [],
   "source": [
    "#Started at 1:28\n",
    "#Interupted at 1:43am next day"
   ]
  }
 ],
 "metadata": {
  "kernelspec": {
   "display_name": "Python 3.6.13 ('Dissertation')",
   "language": "python",
   "name": "python3"
  },
  "language_info": {
   "codemirror_mode": {
    "name": "ipython",
    "version": 3
   },
   "file_extension": ".py",
   "mimetype": "text/x-python",
   "name": "python",
   "nbconvert_exporter": "python",
   "pygments_lexer": "ipython3",
   "version": "3.6.13"
  },
  "orig_nbformat": 4,
  "vscode": {
   "interpreter": {
    "hash": "0e7d8a89c4beef0a3d080b5b136fd623de36ddd432f5a6abb72d0da0b1556b26"
   }
  }
 },
 "nbformat": 4,
 "nbformat_minor": 2
}
