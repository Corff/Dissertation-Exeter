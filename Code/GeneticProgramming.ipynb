{
 "cells": [
  {
   "cell_type": "markdown",
   "metadata": {},
   "source": [
    "# Importing Dataset"
   ]
  },
  {
   "cell_type": "code",
   "execution_count": null,
   "metadata": {},
   "outputs": [],
   "source": [
    "import pickle\n",
    "chromosomeFile = \"Data//matchesList.txt\"\n",
    "labelsFile = \"Data//labelList.txt\"\n",
    "\n",
    "with open(chromosomeFile, 'rb') as f:\n",
    "    chromosomeList = pickle.load(f)\n",
    "\n",
    "with open(labelsFile, 'rb') as f:\n",
    "    labels = pickle.load(f)"
   ]
  },
  {
   "cell_type": "markdown",
   "metadata": {},
   "source": [
    "# Genetic Programming"
   ]
  },
  {
   "cell_type": "markdown",
   "metadata": {},
   "source": [
    "1. Initialize random population\n",
    "2. Evaluate each one\n",
    "3. Select 2 good ones (tournament, roulette wheel, monte carlo)\n",
    "4. Crossover between them\n",
    "5. Mutate the solution (cant be names 0 or 8)\n",
    "6. Evaluate\n",
    "7. Replace if better than worst"
   ]
  },
  {
   "cell_type": "code",
   "execution_count": null,
   "metadata": {},
   "outputs": [],
   "source": [
    "for x in chromosomeList:\n",
    "    del x[8]\n",
    "    del x[0]"
   ]
  },
  {
   "cell_type": "code",
   "execution_count": null,
   "metadata": {},
   "outputs": [],
   "source": [
    "import random as r"
   ]
  },
  {
   "cell_type": "markdown",
   "metadata": {},
   "source": [
    "### Create Population"
   ]
  },
  {
   "cell_type": "code",
   "execution_count": null,
   "metadata": {},
   "outputs": [],
   "source": [
    "def createSolution():\n",
    "    solution = [0]*len(chromosomeList[0])\n",
    "    for i in range(len(solution)):\n",
    "        solution[i] = r.uniform(-10,10)\n",
    "    return solution"
   ]
  },
  {
   "cell_type": "code",
   "execution_count": null,
   "metadata": {},
   "outputs": [],
   "source": [
    "def createPopulation(populationSize):\n",
    "    population = []\n",
    "    for i in range(0,populationSize):\n",
    "        population.append(createSolution())\n",
    "    return population"
   ]
  },
  {
   "cell_type": "markdown",
   "metadata": {},
   "source": [
    "### Evaluate Solutions"
   ]
  },
  {
   "cell_type": "code",
   "execution_count": null,
   "metadata": {},
   "outputs": [],
   "source": [
    "def createSolutionLabels(solution):\n",
    "    localLabels = []\n",
    "    for i in range(0,len(chromosomeList)):\n",
    "        t1Val = 0\n",
    "        t2Val = 0\n",
    "        for j in range(0,len(solution)):\n",
    "            if(j<=6):\n",
    "                t1Val += solution[j]*chromosomeList[i][j]\n",
    "            else:\n",
    "                t2Val += solution[j]*chromosomeList[i][j]\n",
    "        result = t1Val - t2Val\n",
    "        if(result>500):\n",
    "            localLabels.append(\"H\")\n",
    "        elif(result<-500):\n",
    "            localLabels.append(\"A\")\n",
    "        elif(result<500 and result>-500):\n",
    "            localLabels.append(\"D\")\n",
    "    return localLabels\n",
    "\n",
    "                \n"
   ]
  },
  {
   "cell_type": "code",
   "execution_count": null,
   "metadata": {},
   "outputs": [],
   "source": [
    "def evaluateSolution(solution):\n",
    "    sLabels = createSolutionLabels(solution)\n",
    "    correct = 0\n",
    "    for i in range(0,len(sLabels)):\n",
    "        if(sLabels[i]==labels[i]):\n",
    "            correct += 1\n",
    "    return correct/len(sLabels)"
   ]
  },
  {
   "cell_type": "markdown",
   "metadata": {},
   "source": [
    "### Selection"
   ]
  },
  {
   "cell_type": "code",
   "execution_count": null,
   "metadata": {},
   "outputs": [],
   "source": [
    "def tournamentSelection(population, tournamentSize):\n",
    "    selected = []\n",
    "    for i in range(0,tournamentSize):\n",
    "        selected.append(population[r.randint(0,len(population)-1)])\n",
    "    \n",
    "    #Evaluate the selected solutions\n",
    "    selectedEval = []\n",
    "    for i in range(0,len(selected)):\n",
    "        selectedEval.append(evaluateSolution(selected[i]))\n",
    "    #Find the best solution\n",
    "    best = selectedEval.index(max(selectedEval))\n",
    "    return selected[best]"
   ]
  },
  {
   "cell_type": "markdown",
   "metadata": {},
   "source": [
    "### Crossover"
   ]
  },
  {
   "cell_type": "code",
   "execution_count": null,
   "metadata": {},
   "outputs": [],
   "source": [
    "def crossover(solution1, solution2, crossoverPoint):\n",
    "    child = solution1[0:crossoverPoint] + solution2[crossoverPoint:]\n",
    "    return list(child)"
   ]
  },
  {
   "cell_type": "markdown",
   "metadata": {},
   "source": [
    "### Mutation"
   ]
  },
  {
   "cell_type": "code",
   "execution_count": null,
   "metadata": {},
   "outputs": [],
   "source": [
    "def mutation(solution, mutationCount):\n",
    "    for i in range(0,mutationCount):\n",
    "        index = r.randint(0,len(solution)-1)\n",
    "        solution[index] = r.uniform(-10,10)\n",
    "    return solution"
   ]
  },
  {
   "cell_type": "markdown",
   "metadata": {},
   "source": [
    "### Evolve Function"
   ]
  },
  {
   "cell_type": "code",
   "execution_count": null,
   "metadata": {},
   "outputs": [],
   "source": [
    "def evolve(populationSize, tournamentSize, mutationCount, generations):\n",
    "    population = createPopulation(populationSize)\n",
    "    stages = [0]*generations\n",
    "    for i in range(0,generations):\n",
    "        fitness = [0]*len(population)\n",
    "        for j in range(0,len(population)):\n",
    "            fitness[j] = evaluateSolution(population[j])\n",
    "        child1 = tournamentSelection(population, tournamentSize)\n",
    "        child2 = tournamentSelection(population, tournamentSize)\n",
    "        child = crossover(child1, child2, r.randint(0,len(child1)-1))\n",
    "        child = mutation(child, mutationCount)\n",
    "        newFitness = evaluateSolution(child)\n",
    "        if(newFitness > min(fitness)):\n",
    "            population[fitness.index(min(fitness))] = child\n",
    "        stages[i] = [i, max(fitness), sum(fitness)/len(fitness), fitness.index(max(fitness))]\n",
    "    text = \"Population Size: \" + str(populationSize) + \", Tournament Size: \" + str(tournamentSize) + \", Mutation Count: \" + str(mutationCount) + \", Generations: \" + str(generations) + \", Best: \" + str(max(fitness)) + \", Average: \" + str(sum(fitness)/len(fitness))\n",
    "    return [text, population[fitness.index(max(fitness))], stages]"
   ]
  },
  {
   "cell_type": "markdown",
   "metadata": {},
   "source": [
    "# Usage"
   ]
  },
  {
   "cell_type": "code",
   "execution_count": null,
   "metadata": {},
   "outputs": [],
   "source": [
    "from timeit import default_timer as timer\n",
    "import datetime\n",
    "def run(p, t, m, g):\n",
    "    start = timer()\n",
    "    populationSize = p\n",
    "    tournamentSize = t\n",
    "    mutationCount = m\n",
    "    generations = g\n",
    "    infoText, chromosome, stages = evolve(populationSize, tournamentSize, mutationCount, generations)\n",
    "    infoText = infoText + \", Time: \" + str(timer()-start)\n",
    "    infoText = infoText + \", Date: \" + str(datetime.datetime.now())\n",
    "\n",
    "    with open(\"Results//GP//testsGP.txt\", 'a') as f:\n",
    "        f.write(str(infoText) + \"\\n\")\n",
    "\n",
    "    with open(\"Results//GP//chromosomesGP.txt\", 'a') as f:\n",
    "        f.write(str(chromosome) + \"\\n\")\n",
    "    \n",
    "    date = str(datetime.datetime.now())\n",
    "    date = date.replace(\" \",\"\")[5:len(date)-8]\n",
    "    date = \"test\" + date + \".txt\"\n",
    "    date = date.replace(\":\",\"_\")\n",
    "    date = date[:9] + \"_\" + date[9:]\n",
    "    date = date[:len(date)-4] + \"-GP\" + date[len(date)-4:]\n",
    "    print(date)\n",
    "    \n",
    "    with open(\"Results//GP//Individual//\" + str(date), 'w') as f:\n",
    "        #f.write(str(stages))\n",
    "        f.write(\"Generation, Best, Average, Index\\n\")\n",
    "        for i in stages:\n",
    "            f.write(str(i).replace(\"[\",\"\").replace(\"]\",\"\") + \"\\n\")\n",
    "    \n",
    "    return \"done\""
   ]
  },
  {
   "cell_type": "code",
   "execution_count": null,
   "metadata": {},
   "outputs": [],
   "source": [
    "date = str(datetime.datetime.now())\n",
    "date = date.replace(\" \",\"\")[5:len(date)-8]\n",
    "date = \"test\" + date + \".txt\"\n",
    "date = date.replace(\":\",\"_\")\n",
    "date = date[:9] + \"_\" + date[9:]\n",
    "print(date)\n",
    "run(100,5,2,10)"
   ]
  },
  {
   "cell_type": "code",
   "execution_count": null,
   "metadata": {},
   "outputs": [],
   "source": [
    "populationSizes = [10,50,100,500]\n",
    "tournamentSizes = [3,6]\n",
    "mutationCounts = [1,2,3]\n",
    "genarations = [10,100,250,500,1000]\n",
    "for g in genarations:\n",
    "    for m in mutationCounts:\n",
    "        for t in tournamentSizes:\n",
    "            for p in populationSizes:\n",
    "                #run(p, t, m, g)\n",
    "                pass"
   ]
  }
 ],
 "metadata": {
  "kernelspec": {
   "display_name": "Python 3.6.13 ('Dissertation')",
   "language": "python",
   "name": "python3"
  },
  "language_info": {
   "codemirror_mode": {
    "name": "ipython",
    "version": 3
   },
   "file_extension": ".py",
   "mimetype": "text/x-python",
   "name": "python",
   "nbconvert_exporter": "python",
   "pygments_lexer": "ipython3",
   "version": "3.6.13"
  },
  "orig_nbformat": 4,
  "vscode": {
   "interpreter": {
    "hash": "0e7d8a89c4beef0a3d080b5b136fd623de36ddd432f5a6abb72d0da0b1556b26"
   }
  }
 },
 "nbformat": 4,
 "nbformat_minor": 2
}
