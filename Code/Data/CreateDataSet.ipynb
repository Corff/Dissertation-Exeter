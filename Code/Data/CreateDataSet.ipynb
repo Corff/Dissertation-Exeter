{
 "cells": [
  {
   "cell_type": "markdown",
   "metadata": {},
   "source": [
    "# Creating Dataset"
   ]
  },
  {
   "cell_type": "code",
   "execution_count": 1,
   "metadata": {},
   "outputs": [],
   "source": [
    "import pandas as pd\n",
    "import numpy as np"
   ]
  },
  {
   "cell_type": "code",
   "execution_count": 2,
   "metadata": {},
   "outputs": [],
   "source": [
    "import asyncio\n",
    "import json\n",
    "import aiohttp\n",
    "from understat import Understat\n",
    "import nest_asyncio\n",
    "nest_asyncio.apply()\n",
    "#__import__('IPython').embed()"
   ]
  },
  {
   "cell_type": "code",
   "execution_count": 3,
   "metadata": {},
   "outputs": [],
   "source": [
    "matches = pd.read_csv('soccer-spi/soccer-spi/spi_matches_2021_top5.csv')\n",
    "\n",
    "matches = matches.dropna()"
   ]
  },
  {
   "cell_type": "code",
   "execution_count": 4,
   "metadata": {},
   "outputs": [],
   "source": [
    "spi = pd.read_csv('soccer-spi/soccer-spi/spi_global_rankings.csv')\n",
    "spi = spi.dropna()"
   ]
  },
  {
   "cell_type": "code",
   "execution_count": 5,
   "metadata": {},
   "outputs": [],
   "source": [
    "def getVal(team, val):\n",
    "    return spi[spi['name'] == team][val].values[0]"
   ]
  },
  {
   "cell_type": "code",
   "execution_count": 6,
   "metadata": {},
   "outputs": [],
   "source": [
    "def getAll(team):\n",
    "    return [getVal(team, \"spi\"), getVal(team, \"off\"), getVal(team, \"def\")]"
   ]
  },
  {
   "cell_type": "code",
   "execution_count": 7,
   "metadata": {},
   "outputs": [],
   "source": [
    "def getXGandG(team):\n",
    "    async def main():\n",
    "        async with aiohttp.ClientSession() as session:\n",
    "            understat = Understat(session)\n",
    "            teamStats = await understat.get_team_stats(team,2021)\n",
    "            #xG\n",
    "            fOpenPlayxG = teamStats['situation']['OpenPlay']['xG']\n",
    "            fCornerxG = teamStats['situation']['FromCorner']['xG']\n",
    "            fSetPiecexG = teamStats['situation']['SetPiece']['xG']\n",
    "            fFreeKickxG = teamStats['situation']['DirectFreekick']['xG']\n",
    "            fPenaltyxG = teamStats['situation']['Penalty']['xG']\n",
    "            xfSum = fOpenPlayxG + fCornerxG + fSetPiecexG + fFreeKickxG + fPenaltyxG\n",
    "            \n",
    "            aOpenPlayxG = teamStats['situation']['OpenPlay']['against']['xG']\n",
    "            aCornerxG = teamStats['situation']['FromCorner']['against']['xG']\n",
    "            aSetPiecexG = teamStats['situation']['SetPiece']['against']['xG']\n",
    "            aFreeKickxG = teamStats['situation']['DirectFreekick']['against']['xG']\n",
    "            aPenaltyxG = teamStats['situation']['Penalty']['against']['xG']\n",
    "            xaSum = aOpenPlayxG + aCornerxG + aSetPiecexG + aFreeKickxG + aPenaltyxG\n",
    "            \n",
    "            #G\n",
    "            fOpenPlayG = teamStats['situation']['OpenPlay']['goals']\n",
    "            fCornerG = teamStats['situation']['FromCorner']['goals']\n",
    "            fSetPieceG = teamStats['situation']['SetPiece']['goals']\n",
    "            fFreeKickG = teamStats['situation']['DirectFreekick']['goals']\n",
    "            fPenaltyG = teamStats['situation']['Penalty']['goals']\n",
    "            fSum = fOpenPlayG + fCornerG + fSetPieceG + fFreeKickG + fPenaltyG\n",
    "            \n",
    "            aOpenPlayG = teamStats['situation']['OpenPlay']['against']['goals']\n",
    "            aCornerG = teamStats['situation']['FromCorner']['against']['goals']\n",
    "            aSetPieceG = teamStats['situation']['SetPiece']['against']['goals']\n",
    "            aFreeKickG = teamStats['situation']['DirectFreekick']['against']['goals']\n",
    "            aPenaltyG = teamStats['situation']['Penalty']['against']['goals']\n",
    "            aSum = aOpenPlayG + aCornerG + aSetPieceG + aFreeKickG + aPenaltyG\n",
    "\n",
    "            return [xfSum, xaSum, fSum, aSum]\n",
    "    loop = asyncio.get_event_loop()\n",
    "    return loop.run_until_complete(main())         \n",
    "            "
   ]
  },
  {
   "cell_type": "code",
   "execution_count": 8,
   "metadata": {},
   "outputs": [],
   "source": [
    "teamList = matches['team1'].unique().tolist()\n",
    "teamList.sort()\n",
    "gfDict = {}\n",
    "gaDict = {}\n",
    "xgfDict = {}\n",
    "xgaDict = {}\n",
    "for team in teamList:\n",
    "    g = getXGandG(team)\n",
    "    gfDict[team] = g[2]\n",
    "    gaDict[team] = g[3]\n",
    "    xgfDict[team] = g[0]\n",
    "    xgaDict[team] = g[1]"
   ]
  },
  {
   "cell_type": "code",
   "execution_count": 9,
   "metadata": {},
   "outputs": [],
   "source": [
    "def getGamesPlayed(league):\n",
    "    dict = {'French Ligue 1': 38,\n",
    "            'Barclays Premier League': 38,\n",
    "            'Italy Serie A': 38,\n",
    "            'German Bundesliga': 34,\n",
    "            'Spanish Primera Division': 38,}\n",
    "    return dict[league]"
   ]
  },
  {
   "cell_type": "code",
   "execution_count": 10,
   "metadata": {},
   "outputs": [],
   "source": [
    "def createChromosomeList(matches):\n",
    "    #Name, SPI, Off, Def, avg xGF, avg xGA, avg GF, avg GA\n",
    "    matchesList = matches.values.tolist()\n",
    "    chromosomeList = []\n",
    "    labels = []\n",
    "    for i in range(0,len(matchesList)):\n",
    "        t1 = matchesList[i][3]\n",
    "        t2 = matchesList[i][4]\n",
    "        t1v = getAll(t1)\n",
    "        t2v = getAll(t2)\n",
    "        p = getGamesPlayed(matchesList[i][2])\n",
    "        team1List = [t1,t1v[0],t1v[1],t1v[2],xgfDict[t1]/p,xgaDict[t1]/p,gfDict[t1]/p,gaDict[t1]/p]\n",
    "        team2List = [t2,t2v[0],t2v[1],t2v[2],xgfDict[t2]/p,xgaDict[t2]/p,gfDict[t2]/p,gaDict[t2]/p]\n",
    "        chromosomeList.append(team1List + team2List)\n",
    "        #Labels\n",
    "        t1s = matchesList[i][7]\n",
    "        t2s = matchesList[i][8]\n",
    "        if(t1s>t2s):\n",
    "            labels.append(\"H\")\n",
    "        elif(t1s<t2s):\n",
    "            labels.append(\"A\")\n",
    "        else:\n",
    "            labels.append(\"D\")\n",
    "    return chromosomeList, labels\n",
    "\n",
    "chromosomeList, labels = createChromosomeList(matches)"
   ]
  },
  {
   "cell_type": "code",
   "execution_count": 11,
   "metadata": {},
   "outputs": [],
   "source": [
    "import pickle\n",
    "chromosomeFile = \"matchesList.txt\"\n",
    "labelsFile = \"labelList.txt\"\n",
    "\n",
    "with open(chromosomeFile, 'wb') as f:\n",
    "    pickle.dump(chromosomeList, f)\n",
    "\n",
    "with open(labelsFile, 'wb') as f:\n",
    "    pickle.dump(labels,f)"
   ]
  },
  {
   "cell_type": "code",
   "execution_count": 14,
   "metadata": {},
   "outputs": [],
   "source": [
    "with open(\"matchListReadable.txt\", 'w') as f:\n",
    "    f.write(\"Team1, Team1 SPI, Team1 Off, Team1 Def, Team1 avg xGF, Team1 avg xGA, Team1 avg GF, Team1 avg GA, Team2, Team2 SPI, Team2 Off, Team2 Def, Team2 avg xGF, Team2 avg xGA, Team2 avg GF, Team2 avg GA\\n\")\n",
    "    for i in chromosomeList:\n",
    "        f.write(str(i).replace(\"[\",\"\").replace(\"]\",\"\").replace(\"'\",\"\") + \"\\n\")"
   ]
  }
 ],
 "metadata": {
  "kernelspec": {
   "display_name": "Python 3.6.13 ('Dissertation')",
   "language": "python",
   "name": "python3"
  },
  "language_info": {
   "codemirror_mode": {
    "name": "ipython",
    "version": 3
   },
   "file_extension": ".py",
   "mimetype": "text/x-python",
   "name": "python",
   "nbconvert_exporter": "python",
   "pygments_lexer": "ipython3",
   "version": "3.6.13"
  },
  "orig_nbformat": 4,
  "vscode": {
   "interpreter": {
    "hash": "0e7d8a89c4beef0a3d080b5b136fd623de36ddd432f5a6abb72d0da0b1556b26"
   }
  }
 },
 "nbformat": 4,
 "nbformat_minor": 2
}
