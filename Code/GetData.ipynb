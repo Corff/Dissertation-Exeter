{
 "cells": [
  {
   "cell_type": "code",
   "execution_count": 1,
   "metadata": {},
   "outputs": [],
   "source": [
    "import numpy as np"
   ]
  },
  {
   "cell_type": "code",
   "execution_count": 2,
   "metadata": {},
   "outputs": [],
   "source": [
    "lines = []\n",
    "\n",
    "with open(\"Results//GP//testsGP.txt\") as f:\n",
    "    x = f.readlines()\n",
    "    for i in x:\n",
    "        split = i.split(\",\")\n",
    "        if(len(split) > 7):\n",
    "            lines.append(split)"
   ]
  },
  {
   "cell_type": "code",
   "execution_count": 3,
   "metadata": {},
   "outputs": [],
   "source": [
    "for i in range(0,len(lines)):\n",
    "    lines[i][0] = int(lines[i][0][17:])\n",
    "    lines[i][1] = int(lines[i][1][18:])\n",
    "    lines[i][2] = int(lines[i][2][17:])\n",
    "    lines[i][3] = int(lines[i][3][14:])\n",
    "    lines[i][4] = float(lines[i][4][7:])\n",
    "    lines[i][5] = float(lines[i][5][10:])"
   ]
  },
  {
   "cell_type": "markdown",
   "metadata": {},
   "source": [
    "0 Population Size (10, 50, 100, 500)  \n",
    "1 TournamentSize (3, 6)  \n",
    "2 Mutation Count (1, 2, 3)  \n",
    "3 Generations (10, 100, 250, 500, 1000)  \n",
    "4 Best  \n",
    "5 Average  \n",
    "6 Time  \n",
    "7 Date  "
   ]
  },
  {
   "cell_type": "code",
   "execution_count": 4,
   "metadata": {},
   "outputs": [],
   "source": [
    "popAverages = [0,0,0,0] #10, 50, 100, 200\n",
    "for i in lines:\n",
    "    popNum = i[0]\n",
    "    best = i[4]\n",
    "    if(popNum == 10):\n",
    "        popAverages[0] += best\n",
    "    elif(popNum == 50):\n",
    "        popAverages[1] += best\n",
    "    elif(popNum == 100):\n",
    "        popAverages[2] += best\n",
    "    elif(popNum == 500):\n",
    "        popAverages[3] += best\n",
    "for i in range(0,len(popAverages)):\n",
    "    popAverages[i] = popAverages[i]/30"
   ]
  },
  {
   "cell_type": "code",
   "execution_count": 5,
   "metadata": {},
   "outputs": [],
   "source": [
    "tournamentAverages = [0,0] #3, 6\n",
    "for i in lines:\n",
    "    tourNum = i[1]\n",
    "    best = i[4]\n",
    "    if(tourNum == 3):\n",
    "        tournamentAverages[0] += best\n",
    "    elif(tourNum == 6):\n",
    "        tournamentAverages[1] += best\n",
    "for i in range(0,len(tournamentAverages)):\n",
    "    tournamentAverages[i] = tournamentAverages[i]/60"
   ]
  },
  {
   "cell_type": "code",
   "execution_count": 6,
   "metadata": {},
   "outputs": [],
   "source": [
    "mutationAverages = [0,0,0] #1, 2, 3\n",
    "for i in lines:\n",
    "    mutNum = i[2]\n",
    "    best = i[4]\n",
    "    if(mutNum == 1):\n",
    "        mutationAverages[0] += best\n",
    "    elif(mutNum == 2):\n",
    "        mutationAverages[1] += best\n",
    "    elif(mutNum == 3):\n",
    "        mutationAverages[2] += best\n",
    "for i in range(0,len(mutationAverages)):\n",
    "    mutationAverages[i] = mutationAverages[i]/40"
   ]
  },
  {
   "cell_type": "code",
   "execution_count": 7,
   "metadata": {},
   "outputs": [],
   "source": [
    "generationAverages = [0,0,0,0,0] #10, 100, 250, 500, 1000\n",
    "for i in lines:\n",
    "    genNum = i[3]\n",
    "    best = i[4]\n",
    "    if(genNum == 10):\n",
    "        generationAverages[0] += best\n",
    "    elif(genNum == 100):\n",
    "        generationAverages[1] += best\n",
    "    elif(genNum == 250):\n",
    "        generationAverages[2] += best\n",
    "    elif(genNum == 500):\n",
    "        generationAverages[3] += best\n",
    "    elif(genNum == 1000):\n",
    "        generationAverages[4] += best\n",
    "for i in range(0,len(generationAverages)):\n",
    "    generationAverages[i] = generationAverages[i]/24"
   ]
  },
  {
   "cell_type": "code",
   "execution_count": 8,
   "metadata": {},
   "outputs": [
    {
     "name": "stdout",
     "output_type": "stream",
     "text": [
      "0.4444505293902885 0.44266155531215784 0.44319550930996715 0.44592004381161005\n",
      "2 0 2 4\n"
     ]
    }
   ],
   "source": [
    "print(max(popAverages),max(tournamentAverages),max(mutationAverages),max(generationAverages))\n",
    "print(popAverages.index(max(popAverages)),tournamentAverages.index(max(tournamentAverages)),mutationAverages.index(max(mutationAverages)),generationAverages.index(max(generationAverages)))"
   ]
  },
  {
   "cell_type": "code",
   "execution_count": 9,
   "metadata": {},
   "outputs": [],
   "source": [
    "#100, 3, 3, 1000"
   ]
  },
  {
   "cell_type": "code",
   "execution_count": 10,
   "metadata": {},
   "outputs": [],
   "source": [
    "lines = []\n",
    "\n",
    "with open(\"Results//GRE//testsGRE.txt\") as f:\n",
    "    x = f.readlines()\n",
    "    for i in x:\n",
    "        split = i.split(\",\")\n",
    "        if(len(split) > 7):\n",
    "            lines.append(split)"
   ]
  },
  {
   "cell_type": "code",
   "execution_count": 11,
   "metadata": {},
   "outputs": [
    {
     "data": {
      "text/plain": [
       "['Population Size: 10',\n",
       " ' Tournament Size: 3',\n",
       " ' Generations: 10',\n",
       " ' Mutation Count: 1',\n",
       " ' Best: 0.5279299014238773',\n",
       " ' Average: 0.5252464403066812',\n",
       " ' Time: 6.425256',\n",
       " ' Date: 2022-07-24 01:28:52.404385\\n']"
      ]
     },
     "execution_count": 11,
     "metadata": {},
     "output_type": "execute_result"
    }
   ],
   "source": [
    "lines[0]"
   ]
  },
  {
   "cell_type": "code",
   "execution_count": 12,
   "metadata": {},
   "outputs": [],
   "source": [
    "for i in range(0,len(lines)):\n",
    "    lines[i][0] = int(lines[i][0][17:])\n",
    "    lines[i][1] = int(lines[i][1][18:])\n",
    "    lines[i][2] = int(lines[i][2][14:])\n",
    "    lines[i][3] = int(lines[i][3][17:])\n",
    "    lines[i][4] = float(lines[i][4][7:])\n",
    "    lines[i][5] = float(lines[i][5][10:])"
   ]
  },
  {
   "cell_type": "markdown",
   "metadata": {},
   "source": [
    "0 Population Size (10, 50, 100, 500)  \n",
    "1 TournamentSize (3, 6)  \n",
    "2 Generations (10, 100, 250, 500, 1000)  \n",
    "3 Mutation Count (1, 2, 3)  \n",
    "4 Best  \n",
    "5 Average  \n",
    "6 Time  \n",
    "7 Date  "
   ]
  },
  {
   "cell_type": "code",
   "execution_count": 13,
   "metadata": {},
   "outputs": [],
   "source": [
    "popAverages = [0,0,0,0] #10, 50, 100, 500\n",
    "pC = [0,0,0,0]\n",
    "for i in lines:\n",
    "    popNum = i[0]\n",
    "    best = i[4]\n",
    "    if(popNum == 10):\n",
    "        popAverages[0] += best\n",
    "        pC[0] += 1\n",
    "    elif(popNum == 50):\n",
    "        popAverages[1] += best\n",
    "        pC[1] += 1\n",
    "    elif(popNum == 100):\n",
    "        popAverages[2] += best\n",
    "        pC[2] += 1\n",
    "    elif(popNum == 500):\n",
    "        popAverages[3] += best\n",
    "        pC[3] += 1\n",
    "for i in range(0,len(popAverages)):\n",
    "    popAverages[i] = popAverages[i]/pC[i]"
   ]
  },
  {
   "cell_type": "code",
   "execution_count": 14,
   "metadata": {},
   "outputs": [],
   "source": [
    "tournamentAverages = [0,0] #3, 6\n",
    "tC = [0,0]\n",
    "for i in lines:\n",
    "    tourNum = i[1]\n",
    "    best = i[4]\n",
    "    if(tourNum == 3):\n",
    "        tournamentAverages[0] += best\n",
    "        tC[0] += 1\n",
    "    elif(tourNum == 6):\n",
    "        tournamentAverages[1] += best\n",
    "        tC[1] += 1\n",
    "for i in range(0,len(tournamentAverages)):\n",
    "    tournamentAverages[i] = tournamentAverages[i]/tC[i]"
   ]
  },
  {
   "cell_type": "code",
   "execution_count": 15,
   "metadata": {},
   "outputs": [],
   "source": [
    "mutationAverages = [0,0,0] #1, 2, 3\n",
    "mC = [0,0,0]\n",
    "for i in lines:\n",
    "    mutNum = i[3]\n",
    "    best = i[4]\n",
    "    if(mutNum == 1):\n",
    "        mutationAverages[0] += best\n",
    "        mC[0] += 1\n",
    "    elif(mutNum == 2):\n",
    "        mutationAverages[1] += best\n",
    "        mC[1] += 1\n",
    "    elif(mutNum == 3):\n",
    "        mutationAverages[2] += best\n",
    "        mC[2] += 1\n",
    "for i in range(0,len(mutationAverages)):\n",
    "    if(mC[i] != 0):\n",
    "        mutationAverages[i] = mutationAverages[i]/mC[i]"
   ]
  },
  {
   "cell_type": "code",
   "execution_count": 16,
   "metadata": {},
   "outputs": [],
   "source": [
    "generationAverages = [0,0,0,0,0] #10, 100, 250, 500, 1000\n",
    "gC = [0,0,0,0,0]\n",
    "for i in lines:\n",
    "    genNum = i[2]\n",
    "    best = i[4]\n",
    "    if(genNum == 10):\n",
    "        generationAverages[0] += best\n",
    "        gC[0] += 1\n",
    "    elif(genNum == 100):\n",
    "        generationAverages[1] += best\n",
    "        gC[1] += 1\n",
    "    elif(genNum == 250):\n",
    "        generationAverages[2] += best\n",
    "        gC[2] += 1\n",
    "    elif(genNum == 500):\n",
    "        generationAverages[3] += best\n",
    "        gC[3] += 1\n",
    "    elif(genNum == 1000):\n",
    "        generationAverages[4] += best\n",
    "        gC[4] += 1\n",
    "for i in range(0,len(generationAverages)):\n",
    "    if(gC[i] != 0):\n",
    "        generationAverages[i] = generationAverages[i]/gC[i]"
   ]
  },
  {
   "cell_type": "code",
   "execution_count": 17,
   "metadata": {},
   "outputs": [
    {
     "name": "stdout",
     "output_type": "stream",
     "text": [
      "0.5340361445783133 0.5317223439211392 0.5319916027747355 0.5335432639649507\n",
      "3 1 2 3\n"
     ]
    }
   ],
   "source": [
    "print(max(popAverages),max(tournamentAverages),max(mutationAverages),max(generationAverages))\n",
    "print(popAverages.index(max(popAverages)),tournamentAverages.index(max(tournamentAverages)),mutationAverages.index(max(mutationAverages)),generationAverages.index(max(generationAverages)))"
   ]
  },
  {
   "cell_type": "code",
   "execution_count": 18,
   "metadata": {},
   "outputs": [],
   "source": [
    "#500, 6, 3, 500"
   ]
  }
 ],
 "metadata": {
  "kernelspec": {
   "display_name": "Python 3.6.13 ('Dissertation')",
   "language": "python",
   "name": "python3"
  },
  "language_info": {
   "codemirror_mode": {
    "name": "ipython",
    "version": 3
   },
   "file_extension": ".py",
   "mimetype": "text/x-python",
   "name": "python",
   "nbconvert_exporter": "python",
   "pygments_lexer": "ipython3",
   "version": "3.6.13"
  },
  "orig_nbformat": 4,
  "vscode": {
   "interpreter": {
    "hash": "0e7d8a89c4beef0a3d080b5b136fd623de36ddd432f5a6abb72d0da0b1556b26"
   }
  }
 },
 "nbformat": 4,
 "nbformat_minor": 2
}
