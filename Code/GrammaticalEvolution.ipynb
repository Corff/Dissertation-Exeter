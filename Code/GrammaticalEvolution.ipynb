{
 "cells": [
  {
   "cell_type": "code",
   "execution_count": null,
   "metadata": {},
   "outputs": [],
   "source": [
    "import numpy as np\n",
    "import pandas as pd\n",
    "import random\n",
    "import pickle\n"
   ]
  },
  {
   "cell_type": "markdown",
   "metadata": {},
   "source": [
    "# Importing Data and Labels"
   ]
  },
  {
   "cell_type": "code",
   "execution_count": null,
   "metadata": {},
   "outputs": [],
   "source": [
    "chromosomeFile = \"Data//matchesList.txt\"\n",
    "labelsFile = \"Data//labelList.txt\"\n",
    "\n",
    "with open(chromosomeFile, 'rb') as f:\n",
    "    matchList = pickle.load(f)\n",
    "\n",
    "with open(labelsFile, 'rb') as f:\n",
    "    labels = pickle.load(f)\n",
    "\n",
    "for x in matchList:\n",
    "    del x[8]\n",
    "    del x[0]"
   ]
  },
  {
   "cell_type": "markdown",
   "metadata": {},
   "source": [
    "# Grammatical Evolution"
   ]
  },
  {
   "cell_type": "code",
   "execution_count": null,
   "metadata": {},
   "outputs": [],
   "source": [
    "def generatePopulation(size):\n",
    "    population = []\n",
    "    for i in range(size):\n",
    "        temp = []\n",
    "        for j in range(0,14):\n",
    "            temp.append(random.randint(0,256))\n",
    "        population.append(temp)\n",
    "    return population"
   ]
  },
  {
   "cell_type": "code",
   "execution_count": null,
   "metadata": {},
   "outputs": [],
   "source": [
    "def setExpr():\n",
    "    expr = [\"<expr> + <expr>\", \"<expr> - <expr>\", \"<expr> * <expr>\", \"<expr> / <expr>\"]\n",
    "    for i in range(0,7):\n",
    "        expr.append(\"tMatchList[i][\"+str(i)+\"]\")\n",
    "    return expr"
   ]
  },
  {
   "cell_type": "code",
   "execution_count": null,
   "metadata": {},
   "outputs": [],
   "source": [
    "def formGrammar(chromosome,expr):\n",
    "    ex = \"<expr>\"\n",
    "    grammar = [ex]\n",
    "    for c in range(0,len(chromosome)):\n",
    "        for i in range(0,len(grammar)):\n",
    "            if(grammar[i] == ex):\n",
    "                addToGrammar = expr[chromosome[c]%len(expr)].split(\" \")\n",
    "                for x in addToGrammar:\n",
    "                    grammar.insert(i+1,x)\n",
    "                del grammar[i]\n",
    "                break\n",
    "    return grammar"
   ]
  },
  {
   "cell_type": "code",
   "execution_count": null,
   "metadata": {},
   "outputs": [],
   "source": [
    "def formString(grammar):\n",
    "    grammarString = \"\"\n",
    "    for i in grammar:\n",
    "        grammarString += i+\" \"\n",
    "    return grammarString"
   ]
  },
  {
   "cell_type": "code",
   "execution_count": null,
   "metadata": {},
   "outputs": [],
   "source": [
    "#def evalString(grammarString,matchList,labels):\n",
    "#    fitness = 0\n",
    "#    solutionLabels = []\n",
    "#    for i in range(0,len(matchList)):\n",
    "#        #print(matchList[i], grammarString)\n",
    "#        try:\n",
    "#            eval(grammarString)\n",
    "#        except:\n",
    "#            fitness = 0\n",
    "#            break\n",
    "#    oldMatchList = matchList\n",
    "#    print(matchList[i])\n",
    "#    matchList = matchList[i][6:]\n",
    "#    print(matchList[i])\n",
    "#    t1v = eval(grammarString)\n",
    "#    matchList = oldMatchList\n",
    "#\n",
    "#    matchList = matchList[i][6:]\n",
    "#    t2v = eval(grammarString)\n",
    "#    matchList = oldMatchList\n",
    "#\n",
    "#    fitness = t1v-t2v\n",
    "#    \n",
    "#    return fitness"
   ]
  },
  {
   "cell_type": "code",
   "execution_count": null,
   "metadata": {},
   "outputs": [],
   "source": [
    "def evalString(grammarString, iMatchList, labels):\n",
    "    #print(grammarString)\n",
    "    oldMatchList = iMatchList\n",
    "    fitness = 0\n",
    "    #i= 0\n",
    "    #print(oldMatchList[i][:7])\n",
    "    #print(oldMatchList[i][7:])\n",
    "    for i in range(len(iMatchList)-1):\n",
    "        try:\n",
    "            t1Stats = oldMatchList[i][:7]\n",
    "            t2Stats = oldMatchList[i][7:]\n",
    "            tMatchList[i] = t1Stats\n",
    "            del tMatchList\n",
    "            #t1v = eval(grammarString)\n",
    "            #matchList[i] = t2Stats\n",
    "            #t2v = eval(grammarString)\n",
    "            #t1v = eval(grammarString)\n",
    "            print(t1Stats)\n",
    "            print(t2Stats)\n",
    "            print(grammarString,\"\\n\")\n",
    "            pass\n",
    "        except:\n",
    "            print(\"failed\\nfailed\\n\", grammarString, \"\\n\")\n",
    "            return 0\n",
    "    \n",
    "    \n",
    "    return fitness\n",
    "        #team1Stats = iMatchList[i][:7]\n",
    "        #team2Stats = iMatchList[i][7:]"
   ]
  },
  {
   "cell_type": "code",
   "execution_count": null,
   "metadata": {},
   "outputs": [],
   "source": [
    "def run(size, generations,matchList,labels):\n",
    "    population = generatePopulation(size)\n",
    "    expr = setExpr()\n",
    "    fitness = []\n",
    "    for i in population:\n",
    "        grammar = formGrammar(i,expr)\n",
    "        grammarString = formString(grammar)\n",
    "        fitness.append(evalString(grammarString,matchList,labels))\n",
    "    return fitness"
   ]
  },
  {
   "cell_type": "code",
   "execution_count": null,
   "metadata": {},
   "outputs": [],
   "source": [
    "run(100,100,matchList,labels)"
   ]
  }
 ],
 "metadata": {
  "kernelspec": {
   "display_name": "Python 3.6.13 ('Dissertation')",
   "language": "python",
   "name": "python3"
  },
  "language_info": {
   "codemirror_mode": {
    "name": "ipython",
    "version": 3
   },
   "file_extension": ".py",
   "mimetype": "text/x-python",
   "name": "python",
   "nbconvert_exporter": "python",
   "pygments_lexer": "ipython3",
   "version": "3.6.13"
  },
  "orig_nbformat": 4,
  "vscode": {
   "interpreter": {
    "hash": "0e7d8a89c4beef0a3d080b5b136fd623de36ddd432f5a6abb72d0da0b1556b26"
   }
  }
 },
 "nbformat": 4,
 "nbformat_minor": 2
}
